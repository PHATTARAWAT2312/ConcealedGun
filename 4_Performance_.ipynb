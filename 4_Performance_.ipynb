{
  "nbformat": 4,
  "nbformat_minor": 0,
  "metadata": {
    "colab": {
      "name": "4.Performance%.ipynb",
      "provenance": [],
      "authorship_tag": "ABX9TyMdfLwMCkyZUWutEwy+8ny2",
      "include_colab_link": true
    },
    "kernelspec": {
      "name": "python3",
      "display_name": "Python 3"
    },
    "language_info": {
      "name": "python"
    }
  },
  "cells": [
    {
      "cell_type": "markdown",
      "metadata": {
        "id": "view-in-github",
        "colab_type": "text"
      },
      "source": [
        "<a href=\"https://colab.research.google.com/github/PHATTARAWAT2312/ConcealedGun/blob/main/4_Performance_.ipynb\" target=\"_parent\"><img src=\"https://colab.research.google.com/assets/colab-badge.svg\" alt=\"Open In Colab\"/></a>"
      ]
    },
    {
      "cell_type": "markdown",
      "metadata": {
        "id": "PsqptVb6WP17"
      },
      "source": [
        "# หา Performance% "
      ]
    },
    {
      "cell_type": "code",
      "metadata": {
        "colab": {
          "base_uri": "https://localhost:8080/"
        },
        "id": "qihxnKWYWJ40",
        "outputId": "ba9c28ae-3a07-4634-d03f-ba7429e99af9"
      },
      "source": [
        "from google.colab import drive\n",
        "drive.mount('/content/gdrive')\n",
        "#root_path = 'gdrive/My Drive/ConcealedGunPROJECT2020/'  #change dir to your project folder"
      ],
      "execution_count": 1,
      "outputs": [
        {
          "output_type": "stream",
          "text": [
            "Mounted at /content/gdrive\n"
          ],
          "name": "stdout"
        }
      ]
    },
    {
      "cell_type": "code",
      "metadata": {
        "id": "RsSJKNidWUDR"
      },
      "source": [
        "import pandas as pd\n",
        "import seaborn as sn\n",
        "import matplotlib.pyplot as plt"
      ],
      "execution_count": 13,
      "outputs": []
    },
    {
      "cell_type": "code",
      "metadata": {
        "colab": {
          "base_uri": "https://localhost:8080/",
          "height": 606
        },
        "id": "zFtblIXSWZmC",
        "outputId": "a71f5129-3bbc-4238-9b89-359498c8e40a"
      },
      "source": [
        "dataset_name = pd.read_csv(\"/content/gdrive/MyDrive/CONEX/CONEX_ConcealedGun/DATASET.csv\")\n",
        "dataset_name = dataset_name.groupby(['Clip_Name','person_id','class_id']).size().reset_index(name='counts_frame_ms')\n",
        "dataset_name_NoGun = dataset_name[dataset_name['class_id'] == 'NoGun' ]\n",
        "dataset_name_NoGun['y_Actual'] = 1\n",
        "dataset_name_Gun = dataset_name[dataset_name['class_id'] == 'Gun' ]\n",
        "dataset_name_Gun['y_Actual'] = 2\n",
        "dataset_Actual =pd.concat([dataset_name_NoGun,dataset_name_Gun], ignore_index=True)\n",
        "dataset_Actual"
      ],
      "execution_count": 54,
      "outputs": [
        {
          "output_type": "stream",
          "text": [
            "/usr/local/lib/python3.7/dist-packages/ipykernel_launcher.py:4: SettingWithCopyWarning: \n",
            "A value is trying to be set on a copy of a slice from a DataFrame.\n",
            "Try using .loc[row_indexer,col_indexer] = value instead\n",
            "\n",
            "See the caveats in the documentation: https://pandas.pydata.org/pandas-docs/stable/user_guide/indexing.html#returning-a-view-versus-a-copy\n",
            "  after removing the cwd from sys.path.\n",
            "/usr/local/lib/python3.7/dist-packages/ipykernel_launcher.py:6: SettingWithCopyWarning: \n",
            "A value is trying to be set on a copy of a slice from a DataFrame.\n",
            "Try using .loc[row_indexer,col_indexer] = value instead\n",
            "\n",
            "See the caveats in the documentation: https://pandas.pydata.org/pandas-docs/stable/user_guide/indexing.html#returning-a-view-versus-a-copy\n",
            "  \n"
          ],
          "name": "stderr"
        },
        {
          "output_type": "execute_result",
          "data": {
            "text/html": [
              "<div>\n",
              "<style scoped>\n",
              "    .dataframe tbody tr th:only-of-type {\n",
              "        vertical-align: middle;\n",
              "    }\n",
              "\n",
              "    .dataframe tbody tr th {\n",
              "        vertical-align: top;\n",
              "    }\n",
              "\n",
              "    .dataframe thead th {\n",
              "        text-align: right;\n",
              "    }\n",
              "</style>\n",
              "<table border=\"1\" class=\"dataframe\">\n",
              "  <thead>\n",
              "    <tr style=\"text-align: right;\">\n",
              "      <th></th>\n",
              "      <th>Clip_Name</th>\n",
              "      <th>person_id</th>\n",
              "      <th>class_id</th>\n",
              "      <th>counts_frame_ms</th>\n",
              "      <th>y_Actual</th>\n",
              "    </tr>\n",
              "  </thead>\n",
              "  <tbody>\n",
              "    <tr>\n",
              "      <th>0</th>\n",
              "      <td>-8zyEwAa50Q_dup1</td>\n",
              "      <td>119845</td>\n",
              "      <td>NoGun</td>\n",
              "      <td>64</td>\n",
              "      <td>1</td>\n",
              "    </tr>\n",
              "    <tr>\n",
              "      <th>1</th>\n",
              "      <td>-8zyEwAa50Q_dup3</td>\n",
              "      <td>119847</td>\n",
              "      <td>NoGun</td>\n",
              "      <td>72</td>\n",
              "      <td>1</td>\n",
              "    </tr>\n",
              "    <tr>\n",
              "      <th>2</th>\n",
              "      <td>-8zyEwAa50Q_dup3</td>\n",
              "      <td>119848</td>\n",
              "      <td>NoGun</td>\n",
              "      <td>72</td>\n",
              "      <td>1</td>\n",
              "    </tr>\n",
              "    <tr>\n",
              "      <th>3</th>\n",
              "      <td>-8zyEwAa50Q_dup3</td>\n",
              "      <td>119849</td>\n",
              "      <td>NoGun</td>\n",
              "      <td>72</td>\n",
              "      <td>1</td>\n",
              "    </tr>\n",
              "    <tr>\n",
              "      <th>4</th>\n",
              "      <td>-8zyEwAa50Q_dup4</td>\n",
              "      <td>119850</td>\n",
              "      <td>NoGun</td>\n",
              "      <td>55</td>\n",
              "      <td>1</td>\n",
              "    </tr>\n",
              "    <tr>\n",
              "      <th>...</th>\n",
              "      <td>...</td>\n",
              "      <td>...</td>\n",
              "      <td>...</td>\n",
              "      <td>...</td>\n",
              "      <td>...</td>\n",
              "    </tr>\n",
              "    <tr>\n",
              "      <th>687</th>\n",
              "      <td>xgZb0Q-CzgE_dup2</td>\n",
              "      <td>118062</td>\n",
              "      <td>Gun</td>\n",
              "      <td>48</td>\n",
              "      <td>2</td>\n",
              "    </tr>\n",
              "    <tr>\n",
              "      <th>688</th>\n",
              "      <td>xgZb0Q-CzgE_dup2</td>\n",
              "      <td>118063</td>\n",
              "      <td>Gun</td>\n",
              "      <td>21</td>\n",
              "      <td>2</td>\n",
              "    </tr>\n",
              "    <tr>\n",
              "      <th>689</th>\n",
              "      <td>yF23Hf80ck4</td>\n",
              "      <td>56952</td>\n",
              "      <td>Gun</td>\n",
              "      <td>97</td>\n",
              "      <td>2</td>\n",
              "    </tr>\n",
              "    <tr>\n",
              "      <th>690</th>\n",
              "      <td>ykJ7pyr87Qc</td>\n",
              "      <td>106512</td>\n",
              "      <td>Gun</td>\n",
              "      <td>97</td>\n",
              "      <td>2</td>\n",
              "    </tr>\n",
              "    <tr>\n",
              "      <th>691</th>\n",
              "      <td>zzy57d0Cyv4</td>\n",
              "      <td>116452</td>\n",
              "      <td>Gun</td>\n",
              "      <td>51</td>\n",
              "      <td>2</td>\n",
              "    </tr>\n",
              "  </tbody>\n",
              "</table>\n",
              "<p>692 rows × 5 columns</p>\n",
              "</div>"
            ],
            "text/plain": [
              "            Clip_Name  person_id class_id  counts_frame_ms  y_Actual\n",
              "0    -8zyEwAa50Q_dup1     119845    NoGun               64         1\n",
              "1    -8zyEwAa50Q_dup3     119847    NoGun               72         1\n",
              "2    -8zyEwAa50Q_dup3     119848    NoGun               72         1\n",
              "3    -8zyEwAa50Q_dup3     119849    NoGun               72         1\n",
              "4    -8zyEwAa50Q_dup4     119850    NoGun               55         1\n",
              "..                ...        ...      ...              ...       ...\n",
              "687  xgZb0Q-CzgE_dup2     118062      Gun               48         2\n",
              "688  xgZb0Q-CzgE_dup2     118063      Gun               21         2\n",
              "689       yF23Hf80ck4      56952      Gun               97         2\n",
              "690       ykJ7pyr87Qc     106512      Gun               97         2\n",
              "691       zzy57d0Cyv4     116452      Gun               51         2\n",
              "\n",
              "[692 rows x 5 columns]"
            ]
          },
          "metadata": {
            "tags": []
          },
          "execution_count": 54
        }
      ]
    },
    {
      "cell_type": "code",
      "metadata": {
        "colab": {
          "base_uri": "https://localhost:8080/",
          "height": 406
        },
        "id": "hR7SvpS0W0u8",
        "outputId": "4ecd5427-9cef-4fda-e093-82720b66d86f"
      },
      "source": [
        "dataset = pd.read_csv(\"/content/gdrive/MyDrive/CONEX/CONEX_ConcealedGun/End_Result_Test_Tracking.csv\")\n",
        "dataset.rename(columns={'mode':'y_Predict'},inplace= True)\n",
        "dataset.rename(columns={'VideoName':'Clip_Name'},inplace= True)\n",
        "# dataset_Predict=dataset.drop(['Scor'], axis=1)\n",
        "dataset_Predict"
      ],
      "execution_count": 55,
      "outputs": [
        {
          "output_type": "execute_result",
          "data": {
            "text/html": [
              "<div>\n",
              "<style scoped>\n",
              "    .dataframe tbody tr th:only-of-type {\n",
              "        vertical-align: middle;\n",
              "    }\n",
              "\n",
              "    .dataframe tbody tr th {\n",
              "        vertical-align: top;\n",
              "    }\n",
              "\n",
              "    .dataframe thead th {\n",
              "        text-align: right;\n",
              "    }\n",
              "</style>\n",
              "<table border=\"1\" class=\"dataframe\">\n",
              "  <thead>\n",
              "    <tr style=\"text-align: right;\">\n",
              "      <th></th>\n",
              "      <th>y_Predict</th>\n",
              "      <th>Clip_Name</th>\n",
              "      <th>person_id</th>\n",
              "    </tr>\n",
              "  </thead>\n",
              "  <tbody>\n",
              "    <tr>\n",
              "      <th>0</th>\n",
              "      <td>1</td>\n",
              "      <td>-8zyEwAa50Q_dup3</td>\n",
              "      <td>119847.0</td>\n",
              "    </tr>\n",
              "    <tr>\n",
              "      <th>1</th>\n",
              "      <td>1</td>\n",
              "      <td>-8zyEwAa50Q_dup3</td>\n",
              "      <td>119848.0</td>\n",
              "    </tr>\n",
              "    <tr>\n",
              "      <th>2</th>\n",
              "      <td>1</td>\n",
              "      <td>-8zyEwAa50Q_dup3</td>\n",
              "      <td>119849.0</td>\n",
              "    </tr>\n",
              "    <tr>\n",
              "      <th>3</th>\n",
              "      <td>1</td>\n",
              "      <td>-8zyEwAa50Q_dup4</td>\n",
              "      <td>119850.0</td>\n",
              "    </tr>\n",
              "    <tr>\n",
              "      <th>4</th>\n",
              "      <td>1</td>\n",
              "      <td>-8zyEwAa50Q_dup4</td>\n",
              "      <td>119851.0</td>\n",
              "    </tr>\n",
              "    <tr>\n",
              "      <th>...</th>\n",
              "      <td>...</td>\n",
              "      <td>...</td>\n",
              "      <td>...</td>\n",
              "    </tr>\n",
              "    <tr>\n",
              "      <th>129</th>\n",
              "      <td>2</td>\n",
              "      <td>WbbUbGSIim0_dup2</td>\n",
              "      <td>109637.0</td>\n",
              "    </tr>\n",
              "    <tr>\n",
              "      <th>130</th>\n",
              "      <td>2</td>\n",
              "      <td>wJmzZka3KTY_dup2</td>\n",
              "      <td>106726.0</td>\n",
              "    </tr>\n",
              "    <tr>\n",
              "      <th>131</th>\n",
              "      <td>1</td>\n",
              "      <td>xieJf8Wa1kc</td>\n",
              "      <td>120296.0</td>\n",
              "    </tr>\n",
              "    <tr>\n",
              "      <th>132</th>\n",
              "      <td>1</td>\n",
              "      <td>xieJf8Wa1kc</td>\n",
              "      <td>120297.0</td>\n",
              "    </tr>\n",
              "    <tr>\n",
              "      <th>133</th>\n",
              "      <td>1</td>\n",
              "      <td>zg9ct7cWUWw_dup1</td>\n",
              "      <td>123801.0</td>\n",
              "    </tr>\n",
              "  </tbody>\n",
              "</table>\n",
              "<p>134 rows × 3 columns</p>\n",
              "</div>"
            ],
            "text/plain": [
              "     y_Predict         Clip_Name  person_id\n",
              "0            1  -8zyEwAa50Q_dup3   119847.0\n",
              "1            1  -8zyEwAa50Q_dup3   119848.0\n",
              "2            1  -8zyEwAa50Q_dup3   119849.0\n",
              "3            1  -8zyEwAa50Q_dup4   119850.0\n",
              "4            1  -8zyEwAa50Q_dup4   119851.0\n",
              "..         ...               ...        ...\n",
              "129          2  WbbUbGSIim0_dup2   109637.0\n",
              "130          2  wJmzZka3KTY_dup2   106726.0\n",
              "131          1       xieJf8Wa1kc   120296.0\n",
              "132          1       xieJf8Wa1kc   120297.0\n",
              "133          1  zg9ct7cWUWw_dup1   123801.0\n",
              "\n",
              "[134 rows x 3 columns]"
            ]
          },
          "metadata": {
            "tags": []
          },
          "execution_count": 55
        }
      ]
    },
    {
      "cell_type": "code",
      "metadata": {
        "colab": {
          "base_uri": "https://localhost:8080/",
          "height": 406
        },
        "id": "VJLrvWKkWb2m",
        "outputId": "73cb19de-5105-4f7c-bfca-cb3626778fb3"
      },
      "source": [
        "compare = pd.merge(left = dataset_Predict , right = dataset_Actual,\n",
        "                 left_on = ['Clip_Name','person_id'],\n",
        "                 right_on = ['Clip_Name','person_id'],\n",
        "                 how = 'left')\n",
        "compare"
      ],
      "execution_count": 57,
      "outputs": [
        {
          "output_type": "execute_result",
          "data": {
            "text/html": [
              "<div>\n",
              "<style scoped>\n",
              "    .dataframe tbody tr th:only-of-type {\n",
              "        vertical-align: middle;\n",
              "    }\n",
              "\n",
              "    .dataframe tbody tr th {\n",
              "        vertical-align: top;\n",
              "    }\n",
              "\n",
              "    .dataframe thead th {\n",
              "        text-align: right;\n",
              "    }\n",
              "</style>\n",
              "<table border=\"1\" class=\"dataframe\">\n",
              "  <thead>\n",
              "    <tr style=\"text-align: right;\">\n",
              "      <th></th>\n",
              "      <th>y_Predict</th>\n",
              "      <th>Clip_Name</th>\n",
              "      <th>person_id</th>\n",
              "      <th>class_id</th>\n",
              "      <th>counts_frame_ms</th>\n",
              "      <th>y_Actual</th>\n",
              "    </tr>\n",
              "  </thead>\n",
              "  <tbody>\n",
              "    <tr>\n",
              "      <th>0</th>\n",
              "      <td>1</td>\n",
              "      <td>-8zyEwAa50Q_dup3</td>\n",
              "      <td>119847.0</td>\n",
              "      <td>NoGun</td>\n",
              "      <td>72</td>\n",
              "      <td>1</td>\n",
              "    </tr>\n",
              "    <tr>\n",
              "      <th>1</th>\n",
              "      <td>1</td>\n",
              "      <td>-8zyEwAa50Q_dup3</td>\n",
              "      <td>119848.0</td>\n",
              "      <td>NoGun</td>\n",
              "      <td>72</td>\n",
              "      <td>1</td>\n",
              "    </tr>\n",
              "    <tr>\n",
              "      <th>2</th>\n",
              "      <td>1</td>\n",
              "      <td>-8zyEwAa50Q_dup3</td>\n",
              "      <td>119849.0</td>\n",
              "      <td>NoGun</td>\n",
              "      <td>72</td>\n",
              "      <td>1</td>\n",
              "    </tr>\n",
              "    <tr>\n",
              "      <th>3</th>\n",
              "      <td>1</td>\n",
              "      <td>-8zyEwAa50Q_dup4</td>\n",
              "      <td>119850.0</td>\n",
              "      <td>NoGun</td>\n",
              "      <td>55</td>\n",
              "      <td>1</td>\n",
              "    </tr>\n",
              "    <tr>\n",
              "      <th>4</th>\n",
              "      <td>1</td>\n",
              "      <td>-8zyEwAa50Q_dup4</td>\n",
              "      <td>119851.0</td>\n",
              "      <td>NoGun</td>\n",
              "      <td>55</td>\n",
              "      <td>1</td>\n",
              "    </tr>\n",
              "    <tr>\n",
              "      <th>...</th>\n",
              "      <td>...</td>\n",
              "      <td>...</td>\n",
              "      <td>...</td>\n",
              "      <td>...</td>\n",
              "      <td>...</td>\n",
              "      <td>...</td>\n",
              "    </tr>\n",
              "    <tr>\n",
              "      <th>129</th>\n",
              "      <td>2</td>\n",
              "      <td>WbbUbGSIim0_dup2</td>\n",
              "      <td>109637.0</td>\n",
              "      <td>Gun</td>\n",
              "      <td>72</td>\n",
              "      <td>2</td>\n",
              "    </tr>\n",
              "    <tr>\n",
              "      <th>130</th>\n",
              "      <td>2</td>\n",
              "      <td>wJmzZka3KTY_dup2</td>\n",
              "      <td>106726.0</td>\n",
              "      <td>Gun</td>\n",
              "      <td>75</td>\n",
              "      <td>2</td>\n",
              "    </tr>\n",
              "    <tr>\n",
              "      <th>131</th>\n",
              "      <td>1</td>\n",
              "      <td>xieJf8Wa1kc</td>\n",
              "      <td>120296.0</td>\n",
              "      <td>NoGun</td>\n",
              "      <td>65</td>\n",
              "      <td>1</td>\n",
              "    </tr>\n",
              "    <tr>\n",
              "      <th>132</th>\n",
              "      <td>1</td>\n",
              "      <td>xieJf8Wa1kc</td>\n",
              "      <td>120297.0</td>\n",
              "      <td>NoGun</td>\n",
              "      <td>65</td>\n",
              "      <td>1</td>\n",
              "    </tr>\n",
              "    <tr>\n",
              "      <th>133</th>\n",
              "      <td>1</td>\n",
              "      <td>zg9ct7cWUWw_dup1</td>\n",
              "      <td>123801.0</td>\n",
              "      <td>NoGun</td>\n",
              "      <td>47</td>\n",
              "      <td>1</td>\n",
              "    </tr>\n",
              "  </tbody>\n",
              "</table>\n",
              "<p>134 rows × 6 columns</p>\n",
              "</div>"
            ],
            "text/plain": [
              "     y_Predict         Clip_Name  person_id class_id  counts_frame_ms  y_Actual\n",
              "0            1  -8zyEwAa50Q_dup3   119847.0    NoGun               72         1\n",
              "1            1  -8zyEwAa50Q_dup3   119848.0    NoGun               72         1\n",
              "2            1  -8zyEwAa50Q_dup3   119849.0    NoGun               72         1\n",
              "3            1  -8zyEwAa50Q_dup4   119850.0    NoGun               55         1\n",
              "4            1  -8zyEwAa50Q_dup4   119851.0    NoGun               55         1\n",
              "..         ...               ...        ...      ...              ...       ...\n",
              "129          2  WbbUbGSIim0_dup2   109637.0      Gun               72         2\n",
              "130          2  wJmzZka3KTY_dup2   106726.0      Gun               75         2\n",
              "131          1       xieJf8Wa1kc   120296.0    NoGun               65         1\n",
              "132          1       xieJf8Wa1kc   120297.0    NoGun               65         1\n",
              "133          1  zg9ct7cWUWw_dup1   123801.0    NoGun               47         1\n",
              "\n",
              "[134 rows x 6 columns]"
            ]
          },
          "metadata": {
            "tags": []
          },
          "execution_count": 57
        }
      ]
    },
    {
      "cell_type": "code",
      "metadata": {
        "colab": {
          "base_uri": "https://localhost:8080/",
          "height": 278
        },
        "id": "edKV2CidWv9G",
        "outputId": "2675bc50-1bb3-4d8c-af95-649bb1ec5236"
      },
      "source": [
        "confusion_matrix = pd.crosstab(compare['y_Actual'], compare['y_Predict'], rownames=['Actual'], colnames=['Predicted'])\n",
        "\n",
        "sn.heatmap(confusion_matrix, annot=True)\n",
        "plt.show()"
      ],
      "execution_count": 60,
      "outputs": [
        {
          "output_type": "display_data",
          "data": {
            "image/png": "[encoded data removed]",
            "text/plain": [
              "<Figure size 432x288 with 2 Axes>"
            ]
          },
          "metadata": {
            "tags": [],
            "needs_background": "light"
          }
        }
      ]
    },
    {
      "cell_type": "markdown",
      "metadata": {
        "id": "AecXQyawc-YR"
      },
      "source": [
        "# Finish"
      ]
    }
  ]
}